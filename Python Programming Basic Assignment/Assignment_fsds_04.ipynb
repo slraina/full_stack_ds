{
 "cells": [
  {
   "cell_type": "markdown",
   "metadata": {},
   "source": [
    "**1. Write a Python Program to Find the Factorial of a Number?**"
   ]
  },
  {
   "cell_type": "code",
   "execution_count": 57,
   "metadata": {},
   "outputs": [
    {
     "name": "stdout",
     "output_type": "stream",
     "text": [
      "Enter the number:6\n",
      "720\n"
     ]
    }
   ],
   "source": [
    "a = int(input(\"Enter the number:\"))\n",
    "fac = 1\n",
    "\n",
    "for x in range(1,a+1):\n",
    "    fac = fac*x\n",
    "\n",
    "print(fac)"
   ]
  },
  {
   "cell_type": "markdown",
   "metadata": {},
   "source": [
    "**2. Write a Python Program to Display the multiplication Table?**"
   ]
  },
  {
   "cell_type": "code",
   "execution_count": 58,
   "metadata": {},
   "outputs": [
    {
     "name": "stdout",
     "output_type": "stream",
     "text": [
      "enter the number whose multiplication table you want: 9\n",
      "here we go.\n",
      "\n",
      "9 * 1 = 9\n",
      "9 * 2 = 18\n",
      "9 * 3 = 27\n",
      "9 * 4 = 36\n",
      "9 * 5 = 45\n",
      "9 * 6 = 54\n",
      "9 * 7 = 63\n",
      "9 * 8 = 72\n",
      "9 * 9 = 81\n",
      "9 * 10 = 90\n"
     ]
    }
   ],
   "source": [
    "num = int(input(\"enter the number whose multiplication table you want: \"))\n",
    "\n",
    "print(\"here we go.\\n\")\n",
    "for i in range(1,11):\n",
    "        print(f'{num} * {i} = {num*i}')"
   ]
  },
  {
   "cell_type": "markdown",
   "metadata": {},
   "source": [
    "**3. Write a Python Program to Print the Fibonacci sequence?**"
   ]
  },
  {
   "cell_type": "code",
   "execution_count": 59,
   "metadata": {},
   "outputs": [
    {
     "name": "stdout",
     "output_type": "stream",
     "text": [
      "Enter the number of elements you want in the series. = 5\n",
      "\n",
      "\n",
      "0,1,1,2,3\n"
     ]
    }
   ],
   "source": [
    "# Fibonacci sequence : 0,1,1,2,3,5,8,13,21....\n",
    "\n",
    "num = int(input(\"Enter the number of elements you want in the series. = \"))\n",
    "\n",
    "a = 0\n",
    "b = 1\n",
    "sum = 0\n",
    "print('\\n')\n",
    "for i in range(num):\n",
    "    if i == 0:\n",
    "        print(a,end=',')\n",
    "    elif i == 1:\n",
    "        print(b,end=',')\n",
    "    else:\n",
    "        c= a+b\n",
    "        if i == num-1:\n",
    "            print(c)\n",
    "        else:\n",
    "            print(c,end=',')\n",
    "        a = b\n",
    "        b = c"
   ]
  },
  {
   "cell_type": "markdown",
   "metadata": {},
   "source": [
    "**4. Write a Python Program to Check Armstrong Number?**"
   ]
  },
  {
   "cell_type": "code",
   "execution_count": 60,
   "metadata": {},
   "outputs": [
    {
     "name": "stdout",
     "output_type": "stream",
     "text": [
      "Enter the number to check if Armstrong Number = 370\n",
      "\n",
      "Yess, an Armstrong Number.\n"
     ]
    }
   ],
   "source": [
    "n = input(\"Enter the number to check if Armstrong Number = \")\n",
    "sum = 0\n",
    "for i in n:\n",
    "#     print(i)\n",
    "    j = int(i)\n",
    "    sum += j*j*j\n",
    "if int(n) == sum :\n",
    "    print(\"\\nYess, an Armstrong Number.\")\n",
    "else :\n",
    "    print(\"\\nNo, it isn't an Armstrong Number.\")"
   ]
  },
  {
   "cell_type": "markdown",
   "metadata": {},
   "source": [
    "**5. Write a Python Program to Find Armstrong Number in an Interval?**"
   ]
  },
  {
   "cell_type": "code",
   "execution_count": 61,
   "metadata": {},
   "outputs": [
    {
     "name": "stdout",
     "output_type": "stream",
     "text": [
      "Enter the lower number of the interval:0\n",
      "Enter the upper number of the interval:5000\n",
      "\n",
      "Armstrong number(s) are :\n",
      "0,1,153,370,371,407,"
     ]
    }
   ],
   "source": [
    "a = int(input(\"Enter the lower number of the interval:\"))\n",
    "b = int(input(\"Enter the upper number of the interval:\"))\n",
    "print(\"\\nArmstrong number(s) are :\")\n",
    "nbs = []\n",
    "\n",
    "for x in range(a,b+1):\n",
    "    sum = 0\n",
    "    n = str(x)\n",
    "    for i in n:\n",
    "        j = int(i)\n",
    "        sum += j*j*j\n",
    "    if int(n) == sum :\n",
    "        nbs.append(sum)\n",
    "        \n",
    "if len(nbs) > 0:\n",
    "    for i in nbs:\n",
    "        print(i, end=',')\n",
    "else : print(\"None in the Interval\")"
   ]
  },
  {
   "cell_type": "markdown",
   "metadata": {},
   "source": [
    "**6. Write a Python Program to Find the Sum of Natural Numbers?**"
   ]
  },
  {
   "cell_type": "code",
   "execution_count": 62,
   "metadata": {},
   "outputs": [
    {
     "name": "stdout",
     "output_type": "stream",
     "text": [
      "Enter the  number till you want the sum of:10\n",
      "55\n"
     ]
    }
   ],
   "source": [
    "z = int(input(\"Enter the  number till you want the sum of:\"))\n",
    "sum=0\n",
    "for i in range(1,z+1):\n",
    "    sum += i\n",
    "print(sum)"
   ]
  }
 ],
 "metadata": {
  "kernelspec": {
   "display_name": "Python 3",
   "language": "python",
   "name": "python3"
  },
  "language_info": {
   "codemirror_mode": {
    "name": "ipython",
    "version": 3
   },
   "file_extension": ".py",
   "mimetype": "text/x-python",
   "name": "python",
   "nbconvert_exporter": "python",
   "pygments_lexer": "ipython3",
   "version": "3.8.5"
  }
 },
 "nbformat": 4,
 "nbformat_minor": 4
}
