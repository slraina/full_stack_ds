{
 "cells": [
  {
   "cell_type": "markdown",
   "metadata": {},
   "source": [
    "1. Write a Python Program to Display Fibonacci Sequence Using Recursion?"
   ]
  },
  {
   "cell_type": "code",
   "execution_count": 44,
   "metadata": {},
   "outputs": [
    {
     "name": "stdout",
     "output_type": "stream",
     "text": [
      "Enter the terms needed: 9\n",
      "\n",
      "Fibonacci sequence:  0, 1, 1, 2, 3, 5, 8, 13, 21\n"
     ]
    }
   ],
   "source": [
    "def recur_fibo(n):\n",
    "    if n <= 1:\n",
    "        return n\n",
    "    else:\n",
    "        return(recur_fibo(n-1) + recur_fibo(n-2))\n",
    "\n",
    "if __name__ == \"__main__\":\n",
    "    \n",
    "    nterms = int(input(\"Enter the terms needed: \"))\n",
    "    if nterms <= 0:\n",
    "        print(\"Please enter a positive integer\")\n",
    "    else:\n",
    "        print(\"\\nFibonacci sequence: \", end=\" \")\n",
    "        for i in range(nterms):\n",
    "            if i == nterms-1:\n",
    "                print(recur_fibo(i))\n",
    "            else:\n",
    "                print(recur_fibo(i),end=\", \")"
   ]
  },
  {
   "cell_type": "markdown",
   "metadata": {},
   "source": [
    "2. Write a Python Program to Find Factorial of Number Using Recursion?"
   ]
  },
  {
   "cell_type": "code",
   "execution_count": 7,
   "metadata": {},
   "outputs": [
    {
     "name": "stdout",
     "output_type": "stream",
     "text": [
      "Enter the number:6\n",
      "Factorial of 6 is : 720\n"
     ]
    }
   ],
   "source": [
    "def fac(n):\n",
    "    if (n == 0 or n == 1):\n",
    "        return 1\n",
    "    else: \n",
    "        return n*fac(n-1)\n",
    "\n",
    "if __name__ == \"__main__\":\n",
    "    num = int(input(\"Enter the number:\"))\n",
    "    print(f\"Factorial of {num} is : {fac(num)}\")"
   ]
  },
  {
   "cell_type": "markdown",
   "metadata": {},
   "source": [
    "3. Write a Python Program to calculate your Body Mass Index?"
   ]
  },
  {
   "cell_type": "code",
   "execution_count": 4,
   "metadata": {},
   "outputs": [
    {
     "name": "stdout",
     "output_type": "stream",
     "text": [
      "Enter your weight in kg and height in meters: \n",
      "Height: 1.75\n",
      "Weight: 80\n",
      "Your BMI is: 26.12 and that corresponds to Overweight and Pre-Obese Category.\n"
     ]
    }
   ],
   "source": [
    "def bmi(h,w):\n",
    "    bm = w/(h*h)\n",
    "    if bm < 16:\n",
    "        return \"Underweight and Severe Thinness\"\n",
    "    elif (bm >= 16 and bm <16.9):\n",
    "        return \"Underweight and Moderate Thinness\"\n",
    "    elif (bm >= 16.9 and bm <18.4):\n",
    "        return \"Underweight and Mild Thinness\"\n",
    "    elif (bm >= 18.4 and bm <24.9):\n",
    "        return \"Normal\"\n",
    "    elif (bm >= 24.9 and bm <29.9):\n",
    "        return \"Overweight and Pre-Obese\"\n",
    "    else :\n",
    "        return \"Obese\"\n",
    "\n",
    "if __name__ == \"__main__\":\n",
    "    print(\"Enter your weight in kg and height in meters: \")\n",
    "    ht,wt = float(input(\"Height: \")),float(input(\"Weight: \")) \n",
    "    print(f\"Your BMI is: {round((wt/(ht*ht)),2)} and that corresponds to {bmi(ht,wt)} Category.\")"
   ]
  },
  {
   "cell_type": "markdown",
   "metadata": {},
   "source": [
    "4. Write a Python Program to calculate the natural logarithm of any number?"
   ]
  },
  {
   "cell_type": "code",
   "execution_count": 20,
   "metadata": {},
   "outputs": [
    {
     "name": "stdout",
     "output_type": "stream",
     "text": [
      "Enter the number whose logarithm you want to know:14\n",
      "Logarithm of 14 is 2.639\n"
     ]
    }
   ],
   "source": [
    "from math import log\n",
    "\n",
    "n = int(input(\"Enter the number whose logarithm you want to know:\"))\n",
    "print(f\"Logarithm of {n} is {round(log(n),3)}\")"
   ]
  },
  {
   "cell_type": "markdown",
   "metadata": {},
   "source": [
    "5. Write a Python Program for cube sum of first n natural numbers?"
   ]
  },
  {
   "cell_type": "code",
   "execution_count": 15,
   "metadata": {},
   "outputs": [
    {
     "name": "stdout",
     "output_type": "stream",
     "text": [
      "Enter the digit till you want the sum of natural numbers: 10\n",
      "\n",
      "Cube sum of first 10 natural numbers is: 3025\n"
     ]
    }
   ],
   "source": [
    "d = int(input(\"Enter the digit till you want the sum of natural numbers: \"))\n",
    "sum = 0\n",
    "for i in range(1,d+1):\n",
    "    sum += i*i*i\n",
    "print(f\"\\nCube sum of first {d} natural numbers is: {sum}\")"
   ]
  }
 ],
 "metadata": {
  "kernelspec": {
   "display_name": "Python 3",
   "language": "python",
   "name": "python3"
  },
  "language_info": {
   "codemirror_mode": {
    "name": "ipython",
    "version": 3
   },
   "file_extension": ".py",
   "mimetype": "text/x-python",
   "name": "python",
   "nbconvert_exporter": "python",
   "pygments_lexer": "ipython3",
   "version": "3.8.5"
  }
 },
 "nbformat": 4,
 "nbformat_minor": 4
}
