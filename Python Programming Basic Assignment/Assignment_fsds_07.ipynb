{
 "cells": [
  {
   "cell_type": "markdown",
   "metadata": {},
   "source": [
    "**1. Write a Python Program to find sum of array?**"
   ]
  },
  {
   "cell_type": "code",
   "execution_count": 17,
   "metadata": {},
   "outputs": [
    {
     "name": "stdout",
     "output_type": "stream",
     "text": [
      "Enter the length of array: 4\n",
      "Enter 1 element: 3\n",
      "Enter 2 element: 5\n",
      "Enter 3 element: 4\n",
      "Enter 4 element: 7\n",
      "The Size of array is: 19\n"
     ]
    }
   ],
   "source": [
    "def sumf(a):\n",
    "    sum = 0\n",
    "    for i in a:\n",
    "        sum += i\n",
    "    return sum\n",
    "    \n",
    "if __name__ == \"__main__\":\n",
    "    try:\n",
    "        ln = int(input(\"Enter the length of array: \"))\n",
    "        ar = [int(input(f\"Enter {i+1} element: \")) for i in range(ln)]\n",
    "        print(f\"\\nThe Size of array is: {sumf(ar)}\")\n",
    "    except Exception as e:\n",
    "        print(\"Enter integer only.\")"
   ]
  },
  {
   "cell_type": "markdown",
   "metadata": {},
   "source": [
    "**2. Write a Python Program to find largest element in an array?**"
   ]
  },
  {
   "cell_type": "code",
   "execution_count": 20,
   "metadata": {},
   "outputs": [
    {
     "name": "stdout",
     "output_type": "stream",
     "text": [
      "Enter the length of array: 4\n",
      "Enter 1 element: 6\n",
      "Enter 2 element: 9\n",
      "Enter 3 element: 2\n",
      "Enter 4 element: 5\n",
      "\n",
      "Largest Element in array is: 9\n"
     ]
    }
   ],
   "source": [
    "try:\n",
    "    ln = int(input(\"Enter the length of array: \"))\n",
    "    ar = [int(input(f\"Enter {i+1} element: \")) for i in range(ln)]\n",
    "    print(f\"\\nLargest Element in array is: {max(ar)}\")\n",
    "except Exception as e:\n",
    "    print(\"Enter integer only.\")"
   ]
  },
  {
   "cell_type": "markdown",
   "metadata": {},
   "source": [
    "**3. Write a Python Program for array rotation?**"
   ]
  },
  {
   "cell_type": "code",
   "execution_count": 37,
   "metadata": {},
   "outputs": [
    {
     "name": "stdout",
     "output_type": "stream",
     "text": [
      "Enter the length of array: 3\n",
      "Enter 1 element: 6\n",
      "Enter 2 element: 5\n",
      "Enter 3 element: 2\n",
      "Entered array: [6, 5, 2]\n",
      "Enter the number for by how much you want to rotate: 7\n",
      "Rotated Array: [5, 2, 6]\n"
     ]
    }
   ],
   "source": [
    "def arot(l,a,n):\n",
    "    \n",
    "    if n > l:\n",
    "        n = n - l*int(n/l)\n",
    "    na = [a.pop(0) for j in range(n)]\n",
    "    a += na\n",
    "    return a\n",
    "\n",
    "if __name__ == \"__main__\":\n",
    "    try:\n",
    "        ln = int(input(\"Enter the length of array: \"))\n",
    "        ar = [int(input(f\"Enter {i+1} element: \")) for i in range(ln)]\n",
    "        print(f\"Entered array: {ar}\")\n",
    "        num = int(input(\"Enter the number for by how much you want to rotate: \"))\n",
    "        print(f\"Rotated Array: {arot(ln,ar,num)}\")\n",
    "    except Exception as e:\n",
    "        print(\"Enter integer only.\")"
   ]
  },
  {
   "cell_type": "markdown",
   "metadata": {},
   "source": [
    "**4. Write a Python Program to Split the array and add the first part to the end?**"
   ]
  },
  {
   "cell_type": "code",
   "execution_count": 43,
   "metadata": {},
   "outputs": [
    {
     "name": "stdout",
     "output_type": "stream",
     "text": [
      "Enter the length of array: 4\n",
      "Enter 1 element: 2\n",
      "Enter 2 element: 65\n",
      "Enter 3 element: 58\n",
      "Enter 4 element: 54\n",
      "Entered array: [2, 65, 58, 54]\n",
      "Enter the position after which you want to split and it should be less than 43\n",
      "New array after splitting: [54, 2, 65, 58]\n"
     ]
    }
   ],
   "source": [
    "def splitarr(arr,x):\n",
    "    narr = [arr.pop(0) for i in range(x)]\n",
    "    arr += narr\n",
    "    return arr\n",
    "    \n",
    "if __name__ == \"__main__\":\n",
    "    try:\n",
    "        ln = int(input(\"Enter the length of array: \"))\n",
    "        ar = [int(input(f\"Enter {i+1} element: \")) for i in range(ln)]\n",
    "        print(f\"Entered array: {ar}\")\n",
    "        num = int(input(f\"Enter the position after which you want to split and it should be less than {ln}\"))\n",
    "        print(f'New array after splitting: {splitarr(ar,num)}')\n",
    "    except Exception as e:\n",
    "        print(f\"\\n{e}\")"
   ]
  },
  {
   "cell_type": "markdown",
   "metadata": {},
   "source": [
    "**5. Write a Python Program to check if given array is Monotonic?**"
   ]
  },
  {
   "cell_type": "code",
   "execution_count": 52,
   "metadata": {},
   "outputs": [
    {
     "name": "stdout",
     "output_type": "stream",
     "text": [
      "Enter the length of array: 2\n",
      "Enter 1 element: 2\n",
      "Enter 2 element: 1\n",
      "Entered array: [2, 1]\n",
      "The array is Monotonic\n"
     ]
    }
   ],
   "source": [
    "def monoa(a,l):\n",
    "        if a == sorted(a):\n",
    "            return \"Monotonic\"\n",
    "        elif (a == sorted(a,reverse=True)):\n",
    "            return \"Monotonic\"\n",
    "        else:\n",
    "            return \"not Monotonic\"\n",
    "            \n",
    "if __name__ == \"__main__\":\n",
    "    try:\n",
    "        ln = int(input(\"Enter the length of array: \"))\n",
    "        ar = [int(input(f\"Enter {i+1} element: \")) for i in range(ln)]\n",
    "        print(f\"Entered array: {ar}\")\n",
    "        print(f\"The array is {monoa(ar,ln)}\")\n",
    "    except Exception as e:\n",
    "        print(f\"\\n{e}\")"
   ]
  },
  {
   "cell_type": "code",
   "execution_count": null,
   "metadata": {},
   "outputs": [],
   "source": []
  }
 ],
 "metadata": {
  "kernelspec": {
   "display_name": "Python 3",
   "language": "python",
   "name": "python3"
  },
  "language_info": {
   "codemirror_mode": {
    "name": "ipython",
    "version": 3
   },
   "file_extension": ".py",
   "mimetype": "text/x-python",
   "name": "python",
   "nbconvert_exporter": "python",
   "pygments_lexer": "ipython3",
   "version": "3.8.5"
  }
 },
 "nbformat": 4,
 "nbformat_minor": 4
}
