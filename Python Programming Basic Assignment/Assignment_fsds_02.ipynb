{
 "cells": [
  {
   "cell_type": "markdown",
   "metadata": {},
   "source": [
    "**1. Write a Python program to convert kilometers to miles?**"
   ]
  },
  {
   "cell_type": "code",
   "execution_count": 1,
   "metadata": {},
   "outputs": [
    {
     "name": "stdout",
     "output_type": "stream",
     "text": [
      "Enter the distance in kilometers. : 25\n",
      "\n",
      "Distance in miles is = 15.534\n"
     ]
    }
   ],
   "source": [
    "k = float(input(\"Enter the distance in kilometers. : \"))\n",
    "\n",
    "print(f'\\nDistance in miles is = {round(0.621371*k,3)}')"
   ]
  },
  {
   "cell_type": "markdown",
   "metadata": {},
   "source": [
    "**2. Write a Python program to convert Celsius to Fahrenheit?**"
   ]
  },
  {
   "cell_type": "code",
   "execution_count": 2,
   "metadata": {},
   "outputs": [
    {
     "name": "stdout",
     "output_type": "stream",
     "text": [
      "Enter the temperatire in Celsius : -40\n",
      "\n",
      "Temperature in Farenheit is = -40.0\n"
     ]
    }
   ],
   "source": [
    "c = float(input(\"Enter the temperatire in Celsius : \"))\n",
    "\n",
    "print(f'\\nTemperature in Farenheit is = {round(1.8*c+32,3)}')"
   ]
  },
  {
   "cell_type": "markdown",
   "metadata": {},
   "source": [
    "**3. Write a Python program to display calendar?**"
   ]
  },
  {
   "cell_type": "code",
   "execution_count": 3,
   "metadata": {},
   "outputs": [
    {
     "name": "stdout",
     "output_type": "stream",
     "text": [
      "Enter the serial number of month\n",
      "(like 05 for May & 08 for August): 5\n",
      "Enter the Year: 2022\n",
      "\n",
      "       May 2022\n",
      "Mo Tu We Th Fr Sa Su\n",
      "                   1\n",
      " 2  3  4  5  6  7  8\n",
      " 9 10 11 12 13 14 15\n",
      "16 17 18 19 20 21 22\n",
      "23 24 25 26 27 28 29\n",
      "30 31\n",
      "\n"
     ]
    }
   ],
   "source": [
    "import calendar as cd\n",
    "\n",
    "mon = int(input(\"Enter the serial number of month\\n(like 05 for May & 08 for August): \"))\n",
    "yr = int(input(\"Enter the Year: \"))\n",
    "\n",
    "print(\"\\n\",cd.month(yr,mon))"
   ]
  },
  {
   "cell_type": "markdown",
   "metadata": {},
   "source": [
    "**4. Write a Python program to solve quadratic equation?**"
   ]
  },
  {
   "cell_type": "code",
   "execution_count": 4,
   "metadata": {},
   "outputs": [
    {
     "name": "stdout",
     "output_type": "stream",
     "text": [
      "Assuming the quadratic is in the form of \n",
      "Ax^2 + Bx + C\n",
      "\n",
      "Enter the values for A,B,C\n",
      "A= 1\n",
      "B= -5\n",
      "C= 6\n",
      "\n",
      "first solution: 3.0\n",
      "second solution: 2.0\n"
     ]
    }
   ],
   "source": [
    "import math as m\n",
    "print(\"Assuming the quadratic is in the form of \\nAx^2 + Bx + C\\n\\nEnter the values for A,B,C\")\n",
    "\n",
    "A = int(input(\"A= \"))\n",
    "B = int(input(\"B= \"))\n",
    "C = int(input(\"C= \"))\n",
    "\n",
    "print(f\"\\nfirst solution: {round((-B+m.sqrt(B*B-4*A*C))/2*A,3)}\")\n",
    "print(f'second solution: {round((-B-m.sqrt(B*B-4*A*C))/2*A,3)}')"
   ]
  },
  {
   "cell_type": "markdown",
   "metadata": {},
   "source": [
    "**5. Write a Python program to swap two variables without temp variable?**"
   ]
  },
  {
   "cell_type": "code",
   "execution_count": 5,
   "metadata": {},
   "outputs": [
    {
     "name": "stdout",
     "output_type": "stream",
     "text": [
      "Enter the value for variable 1 : 10\n",
      "Enter the value for variable 2 : 3\n",
      "After Swapping\n",
      "\n",
      "Value of variable 1 : 3\n",
      "Value for variable 2 : 10\n"
     ]
    }
   ],
   "source": [
    "v1 = int(input(\"Enter the value for variable 1 : \"))\n",
    "v2 = int(input(\"Enter the value for variable 2 : \"))\n",
    "\n",
    "# swapping\n",
    "v1 = v1+v2\n",
    "v2 = v1-v2\n",
    "v1 = v1-v2\n",
    "\n",
    "print(f\"After Swapping\\n\\nValue of variable 1 : {v1}\")\n",
    "print(f\"Value for variable 2 : {v2}\")"
   ]
  }
 ],
 "metadata": {
  "kernelspec": {
   "display_name": "Python 3",
   "language": "python",
   "name": "python3"
  },
  "language_info": {
   "codemirror_mode": {
    "name": "ipython",
    "version": 3
   },
   "file_extension": ".py",
   "mimetype": "text/x-python",
   "name": "python",
   "nbconvert_exporter": "python",
   "pygments_lexer": "ipython3",
   "version": "3.8.5"
  }
 },
 "nbformat": 4,
 "nbformat_minor": 4
}
