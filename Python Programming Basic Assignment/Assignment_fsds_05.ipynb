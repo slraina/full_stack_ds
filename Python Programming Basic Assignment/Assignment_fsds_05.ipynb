{
 "cells": [
  {
   "cell_type": "markdown",
   "metadata": {},
   "source": [
    "**1. Write a Python Program to Find LCM?**"
   ]
  },
  {
   "cell_type": "code",
   "execution_count": 1,
   "metadata": {},
   "outputs": [
    {
     "name": "stdout",
     "output_type": "stream",
     "text": [
      "Assuming we want the LCM of 2 numbers only.\n",
      "\n",
      "Number 1 = 5\n",
      "Number 2 = 20\n",
      "\n",
      "LCM is = 20\n"
     ]
    }
   ],
   "source": [
    "print(\"Assuming we want the LCM of 2 numbers only.\\n\")\n",
    "\n",
    "st = [int(input(f\"Number {i} = \")) for i in range(1,3)]\n",
    "\n",
    "n = st[0]\n",
    "m = st[1]\n",
    "\n",
    "if n>m :\n",
    "    g = n\n",
    "else:\n",
    "    g = m\n",
    "    \n",
    "while(1):\n",
    "    if (g%n == 0) and (g%m == 0):\n",
    "        lcm = g\n",
    "        break\n",
    "    g+=1\n",
    "print(f\"\\nLCM is = {lcm}\")"
   ]
  },
  {
   "cell_type": "markdown",
   "metadata": {},
   "source": [
    "**2. Write a Python Program to Find HCF?**"
   ]
  },
  {
   "cell_type": "code",
   "execution_count": 2,
   "metadata": {},
   "outputs": [
    {
     "name": "stdout",
     "output_type": "stream",
     "text": [
      "Assuming we want the HCF of 2 numbers only.\n",
      "\n",
      "Number 1 = 2\n",
      "Number 2 = 20\n",
      "\n",
      "HCF is = 2.0\n"
     ]
    }
   ],
   "source": [
    "print(\"Assuming we want the HCF of 2 numbers only.\\n\")\n",
    "\n",
    "st = [int(input(f\"Number {i} = \")) for i in range(1,3)]\n",
    "\n",
    "n = st[0]\n",
    "m = st[1]\n",
    "\n",
    "if n>m :\n",
    "    g = n\n",
    "else:\n",
    "    g = m\n",
    "    \n",
    "while(1):\n",
    "    if (g%n == 0) and (g%m == 0):\n",
    "        lcm = g\n",
    "        break\n",
    "    g+=1\n",
    "    \n",
    "hcf = (n*m)/lcm\n",
    "\n",
    "print(f\"\\nHCF is = {hcf}\")"
   ]
  },
  {
   "cell_type": "markdown",
   "metadata": {},
   "source": [
    "**3. Write a Python Program to Convert Decimal to Binary, Octal and Hexadecimal?**"
   ]
  },
  {
   "cell_type": "code",
   "execution_count": 3,
   "metadata": {},
   "outputs": [
    {
     "name": "stdout",
     "output_type": "stream",
     "text": [
      "Enter the Decimal Number = 20\n",
      "\n",
      "Binary Value of 20 is 10100\n",
      "Octal Value of 20 is 24\n",
      "Hexa-Decimal Value of 20 is 14\n"
     ]
    }
   ],
   "source": [
    "x = int(input(\"Enter the Decimal Number = \"))\n",
    "\n",
    "\n",
    "print(f\"\\nBinary Value of {x} is {bin(x)[2:]}\")\n",
    "\n",
    "print(f\"Octal Value of {x} is {oct(x)[2:]}\")\n",
    "\n",
    "print(f\"Hexa-Decimal Value of {x} is {hex(x)[2:]}\")"
   ]
  },
  {
   "cell_type": "markdown",
   "metadata": {},
   "source": [
    "**4. Write a Python Program To Find ASCII value of a character?**"
   ]
  },
  {
   "cell_type": "code",
   "execution_count": 4,
   "metadata": {},
   "outputs": [
    {
     "name": "stdout",
     "output_type": "stream",
     "text": [
      "Enter the character : z\n",
      "\n",
      "ASCII value of z is 122\n"
     ]
    }
   ],
   "source": [
    "z = input(\"Enter the character : \")\n",
    "\n",
    "print(f\"\\nASCII value of {z} is {ord(z)}\")"
   ]
  },
  {
   "cell_type": "markdown",
   "metadata": {},
   "source": [
    "**5. Write a Python Program to Make a Simple Calculator with 4 basic mathematical operations?**"
   ]
  },
  {
   "cell_type": "code",
   "execution_count": 6,
   "metadata": {},
   "outputs": [
    {
     "name": "stdout",
     "output_type": "stream",
     "text": [
      "Enter the number 2: 6\n",
      "Enter the number 2: 7\n",
      "Enter the operation [Out of these (+,-,*,/)] to be performed: +\n",
      "\n",
      "Answer = 13\n"
     ]
    }
   ],
   "source": [
    "a = int(input(\"Enter the number 2: \"))\n",
    "b = int(input(\"Enter the number 2: \"))\n",
    "\n",
    "op = input(\"Enter the operation [Out of these (+,-,*,/)] to be performed: \")\n",
    "\n",
    "if(op == \"+\"):\n",
    "    print(f\"\\nAnswer = {a+b}\")    \n",
    "elif(op == \"-\"):\n",
    "    print(f\"\\nAnswer = {a-b}\")\n",
    "elif(op == \"*\"):\n",
    "    print(f\"\\nAnswer = {a*b}\")\n",
    "elif(op == \"/\"):\n",
    "    if (b == 0):\n",
    "        print(\"\\nCan't divide by zero.\")\n",
    "    else:\n",
    "        print(f\"\\nAnswer = {round(a/b,2)}\")"
   ]
  }
 ],
 "metadata": {
  "kernelspec": {
   "display_name": "Python 3",
   "language": "python",
   "name": "python3"
  },
  "language_info": {
   "codemirror_mode": {
    "name": "ipython",
    "version": 3
   },
   "file_extension": ".py",
   "mimetype": "text/x-python",
   "name": "python",
   "nbconvert_exporter": "python",
   "pygments_lexer": "ipython3",
   "version": "3.8.5"
  }
 },
 "nbformat": 4,
 "nbformat_minor": 4
}
