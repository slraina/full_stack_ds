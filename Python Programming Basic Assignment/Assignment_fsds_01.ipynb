{
 "cells": [
  {
   "cell_type": "markdown",
   "metadata": {},
   "source": [
    "**1. Write a Python program to print \"Hello Python\"?**"
   ]
  },
  {
   "cell_type": "code",
   "execution_count": 3,
   "metadata": {},
   "outputs": [
    {
     "name": "stdout",
     "output_type": "stream",
     "text": [
      "Hello Python\n"
     ]
    }
   ],
   "source": [
    "print(\"Hello Python\")"
   ]
  },
  {
   "cell_type": "markdown",
   "metadata": {},
   "source": [
    "**2. Write a Python program to do arithmetical operations addition and division.?**"
   ]
  },
  {
   "cell_type": "code",
   "execution_count": 4,
   "metadata": {},
   "outputs": [
    {
     "name": "stdout",
     "output_type": "stream",
     "text": [
      "Sum = 11 \n",
      "Division is = 0.833\n"
     ]
    }
   ],
   "source": [
    "# Arithmetical operations\n",
    "# addition\n",
    "a = 5\n",
    "b = 6\n",
    "\n",
    "c = a+b\n",
    "\n",
    "# division\n",
    "d = a/b\n",
    "print(f\"Sum = {c} \\nDivision is = {round(d,3)}\")"
   ]
  },
  {
   "cell_type": "markdown",
   "metadata": {},
   "source": [
    "**3. Write a Python program to find the area of a triangle?**"
   ]
  },
  {
   "cell_type": "code",
   "execution_count": 5,
   "metadata": {},
   "outputs": [
    {
     "name": "stdout",
     "output_type": "stream",
     "text": [
      "Enter the value for base of the triangle(cm): 10\n",
      "Enter the value for height of the triangle(cm): 6\n",
      "\n",
      "Area of the Triangle is = 30.0 cm sq.\n"
     ]
    }
   ],
   "source": [
    "b = int(input(\"Enter the value for base of the triangle(cm): \"))\n",
    "h = int(input(\"Enter the value for height of the triangle(cm): \"))\n",
    "\n",
    "print(f\"\\nArea of the Triangle is = {0.5*b*h} cm sq.\")"
   ]
  },
  {
   "cell_type": "markdown",
   "metadata": {},
   "source": [
    "**4. Write a Python program to swap two variables?**"
   ]
  },
  {
   "cell_type": "code",
   "execution_count": 6,
   "metadata": {},
   "outputs": [
    {
     "name": "stdout",
     "output_type": "stream",
     "text": [
      "Enter the value for variable 1 : 2\n",
      "Enter the value for variable 2 : 6\n",
      "After Swapping\n",
      "\n",
      "Value of variable 1 : 6\n",
      "Value for variable 2 : 2\n"
     ]
    }
   ],
   "source": [
    "v1 = int(input(\"Enter the value for variable 1 : \"))\n",
    "v2 = int(input(\"Enter the value for variable 2 : \"))\n",
    "\n",
    "# swapping\n",
    "v1 = v1+v2\n",
    "v2 = v1-v2\n",
    "v1 = v1-v2\n",
    "\n",
    "print(f\"After Swapping\\n\\nValue of variable 1 : {v1}\")\n",
    "print(f\"Value for variable 2 : {v2}\")"
   ]
  },
  {
   "cell_type": "markdown",
   "metadata": {},
   "source": [
    "**5. Write a Python program to generate a random number?**"
   ]
  },
  {
   "cell_type": "code",
   "execution_count": 7,
   "metadata": {},
   "outputs": [
    {
     "name": "stdout",
     "output_type": "stream",
     "text": [
      "random number: 180\n"
     ]
    }
   ],
   "source": [
    "import numpy as np\n",
    "\n",
    "# random number generator\n",
    "r = np.random.randint(0,1000,1,int)\n",
    "print(f\"random number: {r[0]}\")"
   ]
  }
 ],
 "metadata": {
  "kernelspec": {
   "display_name": "Python 3",
   "language": "python",
   "name": "python3"
  },
  "language_info": {
   "codemirror_mode": {
    "name": "ipython",
    "version": 3
   },
   "file_extension": ".py",
   "mimetype": "text/x-python",
   "name": "python",
   "nbconvert_exporter": "python",
   "pygments_lexer": "ipython3",
   "version": "3.8.5"
  }
 },
 "nbformat": 4,
 "nbformat_minor": 4
}
